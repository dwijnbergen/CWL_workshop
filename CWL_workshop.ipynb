{
  "nbformat": 4,
  "nbformat_minor": 0,
  "metadata": {
    "colab": {
      "provenance": []
    },
    "kernelspec": {
      "name": "python3",
      "display_name": "Python 3"
    },
    "language_info": {
      "name": "python"
    }
  },
  "cells": [
    {
      "cell_type": "markdown",
      "source": [
        "# Installation"
      ],
      "metadata": {
        "id": "dcOHcqNg0wWr"
      }
    },
    {
      "cell_type": "code",
      "execution_count": null,
      "metadata": {
        "id": "eHSyVr0gZYve"
      },
      "outputs": [],
      "source": [
        "!apt install cwltool"
      ]
    },
    {
      "cell_type": "markdown",
      "source": [
        "# Example 1: Hello world!"
      ],
      "metadata": {
        "id": "Q5-5sme600pO"
      }
    },
    {
      "cell_type": "code",
      "source": [
        "!cwl-runner 1_hello-world.cwl"
      ],
      "metadata": {
        "id": "9nKx60jeaEz7"
      },
      "execution_count": null,
      "outputs": []
    },
    {
      "cell_type": "markdown",
      "source": [
        "# Example 2: Hello world in python"
      ],
      "metadata": {
        "id": "tBNNiWlU043r"
      }
    },
    {
      "cell_type": "code",
      "source": [
        "!cwl-runner 2_hello-world.cwl"
      ],
      "metadata": {
        "id": "5zpX4loPa0y2"
      },
      "execution_count": null,
      "outputs": []
    },
    {
      "cell_type": "markdown",
      "source": [
        "# Example 3: Create a text file"
      ],
      "metadata": {
        "id": "lfUpqghk07Wv"
      }
    },
    {
      "cell_type": "code",
      "source": [
        "!cwl-runner 3_create-text-file.cwl --text CWL --repetitions 20"
      ],
      "metadata": {
        "id": "PFPgJC-oa3cK"
      },
      "execution_count": null,
      "outputs": []
    },
    {
      "cell_type": "code",
      "source": [
        "!cat output.txt"
      ],
      "metadata": {
        "id": "sgrPzXKo1Zir"
      },
      "execution_count": null,
      "outputs": []
    },
    {
      "cell_type": "code",
      "source": [
        "!cwl-runner 3_create-text-file.cwl 3_test.yml"
      ],
      "metadata": {
        "id": "5W12AIib1eLZ"
      },
      "execution_count": null,
      "outputs": []
    },
    {
      "cell_type": "code",
      "source": [
        "!cat output.txt"
      ],
      "metadata": {
        "colab": {
          "base_uri": "https://localhost:8080/"
        },
        "id": "wMxnPgeN1eSF",
        "outputId": "48a81f32-c5ff-49f6-a48d-c36436bd7cfd"
      },
      "execution_count": null,
      "outputs": [
        {
          "output_type": "stream",
          "name": "stdout",
          "text": [
            "Common Workflow LanguageCommon Workflow Language"
          ]
        }
      ]
    },
    {
      "cell_type": "markdown",
      "source": [
        "# Example 4: analyze a text file"
      ],
      "metadata": {
        "id": "X-soseVz0_Ao"
      }
    },
    {
      "cell_type": "code",
      "source": [
        "!cwl-runner 4_analyze-text-file.cwl --input_file output.txt"
      ],
      "metadata": {
        "id": "yuUxAson1Hh6"
      },
      "execution_count": null,
      "outputs": []
    },
    {
      "cell_type": "code",
      "source": [
        "!cat counts.txt"
      ],
      "metadata": {
        "id": "pNsvYxdv1tPE"
      },
      "execution_count": null,
      "outputs": []
    },
    {
      "cell_type": "markdown",
      "source": [
        "# Example 5: Combine steps into a workflow"
      ],
      "metadata": {
        "id": "KjfUORdV1BfK"
      }
    },
    {
      "cell_type": "code",
      "source": [
        "!cwl-runner 5_workflow.cwl 3_test.yml"
      ],
      "metadata": {
        "id": "NbPH8T5S1H_F"
      },
      "execution_count": null,
      "outputs": []
    },
    {
      "cell_type": "code",
      "source": [
        "!cat counts.txt"
      ],
      "metadata": {
        "id": "QagmQX3G15JP"
      },
      "execution_count": null,
      "outputs": []
    }
  ]
}