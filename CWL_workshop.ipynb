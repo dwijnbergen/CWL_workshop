{
  "nbformat": 4,
  "nbformat_minor": 0,
  "metadata": {
    "colab": {
      "provenance": []
    },
    "kernelspec": {
      "name": "python3",
      "display_name": "Python 3"
    },
    "language_info": {
      "name": "python"
    }
  },
  "cells": [
    {
      "cell_type": "markdown",
      "source": [
        "# Installation"
      ],
      "metadata": {
        "id": "dcOHcqNg0wWr"
      }
    },
    {
      "cell_type": "code",
      "execution_count": null,
      "metadata": {
        "colab": {
          "base_uri": "https://localhost:8080/"
        },
        "id": "eHSyVr0gZYve",
        "outputId": "455090fb-d3dc-471b-c594-d436e7bad223"
      },
      "outputs": [
        {
          "output_type": "stream",
          "name": "stdout",
          "text": [
            "Reading package lists... Done\n",
            "Building dependency tree       \n",
            "Reading state information... Done\n",
            "The following additional packages will be installed:\n",
            "  fonts-glyphicons-halflings libc-ares2 libjs-bootstrap libnode64 nodejs\n",
            "  nodejs-doc python3-bs4 python3-cachecontrol python3-coloredlogs\n",
            "  python3-dateutil python3-decorator python3-html5lib python3-humanfriendly\n",
            "  python3-isodate python3-lockfile python3-lxml python3-mistune\n",
            "  python3-msgpack python3-mypy-extensions python3-networkx python3-numpy\n",
            "  python3-prov python3-psutil python3-pyparsing python3-rdflib\n",
            "  python3-rdflib-jsonld python3-ruamel.yaml python3-schema-salad\n",
            "  python3-shellescape python3-soupsieve python3-sparqlwrapper\n",
            "  python3-typing-extensions python3-webencodings python3-yaml\n",
            "Suggested packages:\n",
            "  docker.io | singularity-container npm python3-genshi python-lockfile-doc\n",
            "  python3-lxml-dbg python-lxml-doc python-networkx-doc python3-gdal\n",
            "  python3-matplotlib python3-pygraphviz | python3-pydot python3-scipy\n",
            "  python-numpy-doc python3-pytest python3-numpy-dbg python-prov-doc\n",
            "  python3-pydot python-psutil-doc python-pyparsing-doc python-rdflib-doc\n",
            "The following NEW packages will be installed:\n",
            "  cwltool fonts-glyphicons-halflings libc-ares2 libjs-bootstrap libnode64\n",
            "  nodejs nodejs-doc python3-bs4 python3-cachecontrol python3-coloredlogs\n",
            "  python3-dateutil python3-decorator python3-html5lib python3-humanfriendly\n",
            "  python3-isodate python3-lockfile python3-lxml python3-mistune\n",
            "  python3-msgpack python3-mypy-extensions python3-networkx python3-numpy\n",
            "  python3-prov python3-psutil python3-pyparsing python3-rdflib\n",
            "  python3-rdflib-jsonld python3-ruamel.yaml python3-schema-salad\n",
            "  python3-shellescape python3-soupsieve python3-sparqlwrapper\n",
            "  python3-typing-extensions python3-webencodings python3-yaml\n",
            "0 upgraded, 35 newly installed, 0 to remove and 23 not upgraded.\n",
            "Need to get 14.0 MB of archives.\n",
            "After this operation, 70.9 MB of additional disk space will be used.\n",
            "Get:1 http://archive.ubuntu.com/ubuntu focal-updates/main amd64 python3-yaml amd64 5.3.1-1ubuntu0.1 [136 kB]\n",
            "Get:2 http://archive.ubuntu.com/ubuntu focal/universe amd64 python3-humanfriendly all 4.18-2 [60.8 kB]\n",
            "Get:3 http://archive.ubuntu.com/ubuntu focal/universe amd64 python3-coloredlogs all 7.3-2 [28.0 kB]\n",
            "Get:4 http://archive.ubuntu.com/ubuntu focal/universe amd64 python3-mypy-extensions all 0.4.3-1 [5,436 B]\n",
            "Get:5 http://archive.ubuntu.com/ubuntu focal/main amd64 python3-dateutil all 2.7.3-3ubuntu1 [63.3 kB]\n",
            "Get:6 http://archive.ubuntu.com/ubuntu focal-updates/main amd64 python3-lxml amd64 4.5.0-1ubuntu0.5 [1,384 kB]\n",
            "Get:7 http://archive.ubuntu.com/ubuntu focal/main amd64 python3-decorator all 4.4.2-0ubuntu1 [10.3 kB]\n",
            "Get:8 http://archive.ubuntu.com/ubuntu focal/main amd64 python3-networkx all 2.4-3ubuntu1 [855 kB]\n",
            "Get:9 http://archive.ubuntu.com/ubuntu focal/universe amd64 python3-isodate all 0.6.0-2 [24.0 kB]\n",
            "Get:10 http://archive.ubuntu.com/ubuntu focal/main amd64 python3-pyparsing all 2.4.6-1 [61.3 kB]\n",
            "Get:11 http://archive.ubuntu.com/ubuntu focal/universe amd64 python3-rdflib all 4.2.2-5 [241 kB]\n",
            "Get:12 http://archive.ubuntu.com/ubuntu focal/universe amd64 python3-prov all 1.5.2-2 [92.8 kB]\n",
            "Get:13 http://archive.ubuntu.com/ubuntu focal/main amd64 python3-psutil amd64 5.5.1-1ubuntu4 [141 kB]\n",
            "Get:14 http://archive.ubuntu.com/ubuntu focal/universe amd64 python3-ruamel.yaml amd64 0.15.89-3build1 [228 kB]\n",
            "Get:15 http://archive.ubuntu.com/ubuntu focal/main amd64 python3-msgpack amd64 0.6.2-1 [73.5 kB]\n",
            "Get:16 http://archive.ubuntu.com/ubuntu focal/main amd64 python3-lockfile all 1:0.12.2-2ubuntu2 [14.6 kB]\n",
            "Get:17 http://archive.ubuntu.com/ubuntu focal/universe amd64 python3-cachecontrol all 0.12.6-1ubuntu2 [16.7 kB]\n",
            "Get:18 http://archive.ubuntu.com/ubuntu focal/universe amd64 python3-mistune all 0.8.4-2 [14.3 kB]\n",
            "Get:19 http://archive.ubuntu.com/ubuntu focal/universe amd64 python3-rdflib-jsonld all 0.4.0-5 [12.4 kB]\n",
            "Get:20 http://archive.ubuntu.com/ubuntu focal/universe amd64 python3-typing-extensions all 3.7.4.1-1 [27.5 kB]\n",
            "Get:21 http://archive.ubuntu.com/ubuntu focal/universe amd64 fonts-glyphicons-halflings all 1.009~3.4.1+dfsg-1 [117 kB]\n",
            "Get:22 http://archive.ubuntu.com/ubuntu focal/universe amd64 libjs-bootstrap all 3.4.1+dfsg-1 [124 kB]\n",
            "Get:23 http://archive.ubuntu.com/ubuntu focal/universe amd64 python3-schema-salad all 5.0.20200220195218-1 [295 kB]\n",
            "Get:24 http://archive.ubuntu.com/ubuntu focal/universe amd64 python3-shellescape all 3.4.1-4 [4,928 B]\n",
            "Get:25 http://archive.ubuntu.com/ubuntu focal/universe amd64 cwltool all 2.0.20200224214940+dfsg-1 [203 kB]\n",
            "Get:26 http://archive.ubuntu.com/ubuntu focal-updates/main amd64 libc-ares2 amd64 1.15.0-1ubuntu0.2 [36.7 kB]\n",
            "Get:27 http://archive.ubuntu.com/ubuntu focal/universe amd64 libnode64 amd64 10.19.0~dfsg-3ubuntu1 [5,765 kB]\n",
            "Get:28 http://archive.ubuntu.com/ubuntu focal/universe amd64 nodejs-doc all 10.19.0~dfsg-3ubuntu1 [942 kB]\n",
            "Get:29 http://archive.ubuntu.com/ubuntu focal/main amd64 python3-soupsieve all 1.9.5+dfsg-1 [29.1 kB]\n",
            "Get:30 http://archive.ubuntu.com/ubuntu focal/main amd64 python3-bs4 all 4.8.2-1 [83.0 kB]\n",
            "Get:31 http://archive.ubuntu.com/ubuntu focal/main amd64 python3-webencodings all 0.5.1-1ubuntu1 [11.0 kB]\n",
            "Get:32 http://archive.ubuntu.com/ubuntu focal/main amd64 python3-html5lib all 1.0.1-2 [84.3 kB]\n",
            "Get:33 http://archive.ubuntu.com/ubuntu focal-updates/main amd64 python3-numpy amd64 1:1.17.4-5ubuntu3.1 [2,724 kB]\n",
            "Get:34 http://archive.ubuntu.com/ubuntu focal/universe amd64 python3-sparqlwrapper all 1.8.5-1 [32.3 kB]\n",
            "Get:35 http://archive.ubuntu.com/ubuntu focal/universe amd64 nodejs amd64 10.19.0~dfsg-3ubuntu1 [61.1 kB]\n",
            "Fetched 14.0 MB in 8s (1,855 kB/s)\n",
            "Extracting templates from packages: 100%\n",
            "Selecting previously unselected package python3-yaml.\n",
            "(Reading database ... 128285 files and directories currently installed.)\n",
            "Preparing to unpack .../00-python3-yaml_5.3.1-1ubuntu0.1_amd64.deb ...\n",
            "Unpacking python3-yaml (5.3.1-1ubuntu0.1) ...\n",
            "Selecting previously unselected package python3-humanfriendly.\n",
            "Preparing to unpack .../01-python3-humanfriendly_4.18-2_all.deb ...\n",
            "Unpacking python3-humanfriendly (4.18-2) ...\n",
            "Selecting previously unselected package python3-coloredlogs.\n",
            "Preparing to unpack .../02-python3-coloredlogs_7.3-2_all.deb ...\n",
            "Unpacking python3-coloredlogs (7.3-2) ...\n",
            "Selecting previously unselected package python3-mypy-extensions.\n",
            "Preparing to unpack .../03-python3-mypy-extensions_0.4.3-1_all.deb ...\n",
            "Unpacking python3-mypy-extensions (0.4.3-1) ...\n",
            "Selecting previously unselected package python3-dateutil.\n",
            "Preparing to unpack .../04-python3-dateutil_2.7.3-3ubuntu1_all.deb ...\n",
            "Unpacking python3-dateutil (2.7.3-3ubuntu1) ...\n",
            "Selecting previously unselected package python3-lxml:amd64.\n",
            "Preparing to unpack .../05-python3-lxml_4.5.0-1ubuntu0.5_amd64.deb ...\n",
            "Unpacking python3-lxml:amd64 (4.5.0-1ubuntu0.5) ...\n",
            "Selecting previously unselected package python3-decorator.\n",
            "Preparing to unpack .../06-python3-decorator_4.4.2-0ubuntu1_all.deb ...\n",
            "Unpacking python3-decorator (4.4.2-0ubuntu1) ...\n",
            "Selecting previously unselected package python3-networkx.\n",
            "Preparing to unpack .../07-python3-networkx_2.4-3ubuntu1_all.deb ...\n",
            "Unpacking python3-networkx (2.4-3ubuntu1) ...\n",
            "Selecting previously unselected package python3-isodate.\n",
            "Preparing to unpack .../08-python3-isodate_0.6.0-2_all.deb ...\n",
            "Unpacking python3-isodate (0.6.0-2) ...\n",
            "Selecting previously unselected package python3-pyparsing.\n",
            "Preparing to unpack .../09-python3-pyparsing_2.4.6-1_all.deb ...\n",
            "Unpacking python3-pyparsing (2.4.6-1) ...\n",
            "Selecting previously unselected package python3-rdflib.\n",
            "Preparing to unpack .../10-python3-rdflib_4.2.2-5_all.deb ...\n",
            "Unpacking python3-rdflib (4.2.2-5) ...\n",
            "Selecting previously unselected package python3-prov.\n",
            "Preparing to unpack .../11-python3-prov_1.5.2-2_all.deb ...\n",
            "Unpacking python3-prov (1.5.2-2) ...\n",
            "Selecting previously unselected package python3-psutil.\n",
            "Preparing to unpack .../12-python3-psutil_5.5.1-1ubuntu4_amd64.deb ...\n",
            "Unpacking python3-psutil (5.5.1-1ubuntu4) ...\n",
            "Selecting previously unselected package python3-ruamel.yaml.\n",
            "Preparing to unpack .../13-python3-ruamel.yaml_0.15.89-3build1_amd64.deb ...\n",
            "Unpacking python3-ruamel.yaml (0.15.89-3build1) ...\n",
            "Selecting previously unselected package python3-msgpack.\n",
            "Preparing to unpack .../14-python3-msgpack_0.6.2-1_amd64.deb ...\n",
            "Unpacking python3-msgpack (0.6.2-1) ...\n",
            "Selecting previously unselected package python3-lockfile.\n",
            "Preparing to unpack .../15-python3-lockfile_1%3a0.12.2-2ubuntu2_all.deb ...\n",
            "Unpacking python3-lockfile (1:0.12.2-2ubuntu2) ...\n",
            "Selecting previously unselected package python3-cachecontrol.\n",
            "Preparing to unpack .../16-python3-cachecontrol_0.12.6-1ubuntu2_all.deb ...\n",
            "Unpacking python3-cachecontrol (0.12.6-1ubuntu2) ...\n",
            "Selecting previously unselected package python3-mistune.\n",
            "Preparing to unpack .../17-python3-mistune_0.8.4-2_all.deb ...\n",
            "Unpacking python3-mistune (0.8.4-2) ...\n",
            "Selecting previously unselected package python3-rdflib-jsonld.\n",
            "Preparing to unpack .../18-python3-rdflib-jsonld_0.4.0-5_all.deb ...\n",
            "Unpacking python3-rdflib-jsonld (0.4.0-5) ...\n",
            "Selecting previously unselected package python3-typing-extensions.\n",
            "Preparing to unpack .../19-python3-typing-extensions_3.7.4.1-1_all.deb ...\n",
            "Unpacking python3-typing-extensions (3.7.4.1-1) ...\n",
            "Selecting previously unselected package fonts-glyphicons-halflings.\n",
            "Preparing to unpack .../20-fonts-glyphicons-halflings_1.009~3.4.1+dfsg-1_all.deb ...\n",
            "Unpacking fonts-glyphicons-halflings (1.009~3.4.1+dfsg-1) ...\n",
            "Selecting previously unselected package libjs-bootstrap.\n",
            "Preparing to unpack .../21-libjs-bootstrap_3.4.1+dfsg-1_all.deb ...\n",
            "Unpacking libjs-bootstrap (3.4.1+dfsg-1) ...\n",
            "Selecting previously unselected package python3-schema-salad.\n",
            "Preparing to unpack .../22-python3-schema-salad_5.0.20200220195218-1_all.deb ...\n",
            "Unpacking python3-schema-salad (5.0.20200220195218-1) ...\n",
            "Selecting previously unselected package python3-shellescape.\n",
            "Preparing to unpack .../23-python3-shellescape_3.4.1-4_all.deb ...\n",
            "Unpacking python3-shellescape (3.4.1-4) ...\n",
            "Selecting previously unselected package cwltool.\n",
            "Preparing to unpack .../24-cwltool_2.0.20200224214940+dfsg-1_all.deb ...\n",
            "Unpacking cwltool (2.0.20200224214940+dfsg-1) ...\n",
            "Selecting previously unselected package libc-ares2:amd64.\n",
            "Preparing to unpack .../25-libc-ares2_1.15.0-1ubuntu0.2_amd64.deb ...\n",
            "Unpacking libc-ares2:amd64 (1.15.0-1ubuntu0.2) ...\n",
            "Selecting previously unselected package libnode64:amd64.\n",
            "Preparing to unpack .../26-libnode64_10.19.0~dfsg-3ubuntu1_amd64.deb ...\n",
            "Unpacking libnode64:amd64 (10.19.0~dfsg-3ubuntu1) ...\n",
            "Selecting previously unselected package nodejs-doc.\n",
            "Preparing to unpack .../27-nodejs-doc_10.19.0~dfsg-3ubuntu1_all.deb ...\n",
            "Unpacking nodejs-doc (10.19.0~dfsg-3ubuntu1) ...\n",
            "Selecting previously unselected package python3-soupsieve.\n",
            "Preparing to unpack .../28-python3-soupsieve_1.9.5+dfsg-1_all.deb ...\n",
            "Unpacking python3-soupsieve (1.9.5+dfsg-1) ...\n",
            "Selecting previously unselected package python3-bs4.\n",
            "Preparing to unpack .../29-python3-bs4_4.8.2-1_all.deb ...\n",
            "Unpacking python3-bs4 (4.8.2-1) ...\n",
            "Selecting previously unselected package python3-webencodings.\n",
            "Preparing to unpack .../30-python3-webencodings_0.5.1-1ubuntu1_all.deb ...\n",
            "Unpacking python3-webencodings (0.5.1-1ubuntu1) ...\n",
            "Selecting previously unselected package python3-html5lib.\n",
            "Preparing to unpack .../31-python3-html5lib_1.0.1-2_all.deb ...\n",
            "Unpacking python3-html5lib (1.0.1-2) ...\n",
            "Selecting previously unselected package python3-numpy.\n",
            "Preparing to unpack .../32-python3-numpy_1%3a1.17.4-5ubuntu3.1_amd64.deb ...\n",
            "Unpacking python3-numpy (1:1.17.4-5ubuntu3.1) ...\n",
            "Selecting previously unselected package python3-sparqlwrapper.\n",
            "Preparing to unpack .../33-python3-sparqlwrapper_1.8.5-1_all.deb ...\n",
            "Unpacking python3-sparqlwrapper (1.8.5-1) ...\n",
            "Selecting previously unselected package nodejs.\n",
            "Preparing to unpack .../34-nodejs_10.19.0~dfsg-3ubuntu1_amd64.deb ...\n",
            "Unpacking nodejs (10.19.0~dfsg-3ubuntu1) ...\n",
            "Setting up python3-lockfile (1:0.12.2-2ubuntu2) ...\n",
            "Setting up fonts-glyphicons-halflings (1.009~3.4.1+dfsg-1) ...\n",
            "Setting up python3-mypy-extensions (0.4.3-1) ...\n",
            "Setting up python3-yaml (5.3.1-1ubuntu0.1) ...\n",
            "Setting up libc-ares2:amd64 (1.15.0-1ubuntu0.2) ...\n",
            "Setting up python3-webencodings (0.5.1-1ubuntu1) ...\n",
            "Setting up python3-psutil (5.5.1-1ubuntu4) ...\n",
            "Setting up python3-isodate (0.6.0-2) ...\n",
            "Setting up python3-decorator (4.4.2-0ubuntu1) ...\n",
            "Setting up python3-pyparsing (2.4.6-1) ...\n",
            "Setting up python3-humanfriendly (4.18-2) ...\n",
            "Setting up libnode64:amd64 (10.19.0~dfsg-3ubuntu1) ...\n",
            "Setting up python3-typing-extensions (3.7.4.1-1) ...\n",
            "Setting up python3-html5lib (1.0.1-2) ...\n",
            "Setting up python3-numpy (1:1.17.4-5ubuntu3.1) ...\n",
            "Setting up nodejs-doc (10.19.0~dfsg-3ubuntu1) ...\n",
            "Setting up python3-ruamel.yaml (0.15.89-3build1) ...\n",
            "Setting up python3-lxml:amd64 (4.5.0-1ubuntu0.5) ...\n",
            "Setting up python3-rdflib (4.2.2-5) ...\n",
            "/usr/lib/python3/dist-packages/rdflib/plugins/memory.py:354: SyntaxWarning: \"is\" with a literal. Did you mean \"==\"?\n",
            "  if triple is None or triple is (None,None,None):\n",
            "Setting up python3-dateutil (2.7.3-3ubuntu1) ...\n",
            "Setting up python3-msgpack (0.6.2-1) ...\n",
            "Setting up python3-cachecontrol (0.12.6-1ubuntu2) ...\n",
            "Setting up python3-shellescape (3.4.1-4) ...\n",
            "Setting up python3-coloredlogs (7.3-2) ...\n",
            "Setting up python3-mistune (0.8.4-2) ...\n",
            "Setting up python3-soupsieve (1.9.5+dfsg-1) ...\n",
            "Setting up libjs-bootstrap (3.4.1+dfsg-1) ...\n",
            "Setting up python3-rdflib-jsonld (0.4.0-5) ...\n",
            "Setting up python3-sparqlwrapper (1.8.5-1) ...\n",
            "Setting up python3-schema-salad (5.0.20200220195218-1) ...\n",
            "Setting up nodejs (10.19.0~dfsg-3ubuntu1) ...\n",
            "update-alternatives: using /usr/bin/nodejs to provide /usr/bin/js (js) in auto mode\n",
            "Setting up python3-networkx (2.4-3ubuntu1) ...\n",
            "/usr/lib/python3/dist-packages/networkx/readwrite/tests/test_graphml.py:933: SyntaxWarning: \"is\" with a literal. Did you mean \"==\"?\n",
            "  assert H.nodes['n1']['special'] is 0\n",
            "/usr/lib/python3/dist-packages/networkx/readwrite/tests/test_graphml.py:935: SyntaxWarning: \"is\" with a literal. Did you mean \"==\"?\n",
            "  assert H.edges['n0','n1',1]['special'] is 0\n",
            "Setting up python3-bs4 (4.8.2-1) ...\n",
            "Setting up python3-prov (1.5.2-2) ...\n",
            "Setting up cwltool (2.0.20200224214940+dfsg-1) ...\n",
            "/usr/lib/python3/dist-packages/cwltool/docker.py:423: SyntaxWarning: \"is\" with a literal. Did you mean \"==\"?\n",
            "  if res_req is not None and (\"ramMin\" in res_req or \"ramMax\" is res_req):\n",
            "Processing triggers for fontconfig (2.13.1-2ubuntu3) ...\n",
            "Processing triggers for libc-bin (2.31-0ubuntu9.9) ...\n",
            "Processing triggers for man-db (2.9.1-1) ...\n"
          ]
        }
      ],
      "source": [
        "!apt install cwltool"
      ]
    },
    {
      "cell_type": "markdown",
      "source": [
        "# Example 1: Hello world!"
      ],
      "metadata": {
        "id": "Q5-5sme600pO"
      }
    },
    {
      "cell_type": "code",
      "source": [
        "!cwl-runner 1_hello-world.cwl"
      ],
      "metadata": {
        "colab": {
          "base_uri": "https://localhost:8080/"
        },
        "id": "9nKx60jeaEz7",
        "outputId": "449aef4b-5ae2-46f7-b7ac-a593f1fc6a64"
      },
      "execution_count": null,
      "outputs": [
        {
          "output_type": "stream",
          "name": "stdout",
          "text": [
            "/usr/lib/python3/dist-packages/cwltool/docker.py:423: SyntaxWarning: \"is\" with a literal. Did you mean \"==\"?\n",
            "  if res_req is not None and (\"ramMin\" in res_req or \"ramMax\" is res_req):\n",
            "\u001b[1;30mINFO\u001b[0m /usr/bin/cwl-runner 2.0.20200224214940\n",
            "/usr/lib/python3/dist-packages/rdflib/plugins/memory.py:354: SyntaxWarning: \"is\" with a literal. Did you mean \"==\"?\n",
            "  if triple is None or triple is (None,None,None):\n",
            "\u001b[1;30mINFO\u001b[0m Resolved '1_hello-world.cwl' to 'file:///content/1_hello-world.cwl'\n",
            "\u001b[1;30mINFO\u001b[0m [job 1_hello-world.cwl] /tmp/7e5qai_o$ echo \\\n",
            "    'Hello world!'\n",
            "Hello world!\n",
            "\u001b[1;30mINFO\u001b[0m [job 1_hello-world.cwl] completed success\n",
            "{}\n",
            "\u001b[1;30mINFO\u001b[0m Final process status is success\n"
          ]
        }
      ]
    },
    {
      "cell_type": "markdown",
      "source": [
        "# Example 2: Hello world in python"
      ],
      "metadata": {
        "id": "tBNNiWlU043r"
      }
    },
    {
      "cell_type": "code",
      "source": [
        "!cwl-runner 2_hello-world.cwl"
      ],
      "metadata": {
        "colab": {
          "base_uri": "https://localhost:8080/"
        },
        "id": "5zpX4loPa0y2",
        "outputId": "ff6795c3-6e5f-4a3e-88e6-cdb884df8558"
      },
      "execution_count": null,
      "outputs": [
        {
          "output_type": "stream",
          "name": "stdout",
          "text": [
            "\u001b[1;30mINFO\u001b[0m /usr/bin/cwl-runner 2.0.20200224214940\n",
            "\u001b[1;30mINFO\u001b[0m Resolved '2_hello-world.cwl' to 'file:///content/2_hello-world.cwl'\n",
            "\u001b[1;30mINFO\u001b[0m [job 2_hello-world.cwl] /tmp/_57l2bv3$ python3 \\\n",
            "    hello-world-script\n",
            "Hello world!\n",
            "\u001b[1;30mINFO\u001b[0m [job 2_hello-world.cwl] completed success\n",
            "{}\n",
            "\u001b[1;30mINFO\u001b[0m Final process status is success\n"
          ]
        }
      ]
    },
    {
      "cell_type": "markdown",
      "source": [
        "# Example 3: Create a text file"
      ],
      "metadata": {
        "id": "lfUpqghk07Wv"
      }
    },
    {
      "cell_type": "code",
      "source": [
        "!cwl-runner 3_create-text-file.cwl --text CWL --repetitions 20"
      ],
      "metadata": {
        "colab": {
          "base_uri": "https://localhost:8080/"
        },
        "id": "PFPgJC-oa3cK",
        "outputId": "3235ce1c-b3e8-4e00-83c8-e0028361ced6"
      },
      "execution_count": null,
      "outputs": [
        {
          "output_type": "stream",
          "name": "stdout",
          "text": [
            "\u001b[1;30mINFO\u001b[0m /usr/bin/cwl-runner 2.0.20200224214940\n",
            "\u001b[1;30mINFO\u001b[0m Resolved '3_create-text-file.cwl' to 'file:///content/3_create-text-file.cwl'\n",
            "\u001b[1;30mINFO\u001b[0m [job 3_create-text-file.cwl] /tmp/oez1xdvh$ python3 \\\n",
            "    create-text-script \\\n",
            "    CWL \\\n",
            "    20\n",
            "\u001b[1;30mINFO\u001b[0m [job 3_create-text-file.cwl] completed success\n",
            "{\n",
            "    \"output_file\": {\n",
            "        \"location\": \"file:///content/output.txt\",\n",
            "        \"basename\": \"output.txt\",\n",
            "        \"class\": \"File\",\n",
            "        \"checksum\": \"sha1$8f745e4204ca5188fc2efbd3d4135756ea06fd54\",\n",
            "        \"size\": 60,\n",
            "        \"path\": \"/content/output.txt\"\n",
            "    }\n",
            "}\n",
            "\u001b[1;30mINFO\u001b[0m Final process status is success\n"
          ]
        }
      ]
    },
    {
      "cell_type": "code",
      "source": [
        "!cat output.txt"
      ],
      "metadata": {
        "colab": {
          "base_uri": "https://localhost:8080/"
        },
        "id": "sgrPzXKo1Zir",
        "outputId": "85187a64-eceb-47a6-eddd-b6d158076b8b"
      },
      "execution_count": null,
      "outputs": [
        {
          "output_type": "stream",
          "name": "stdout",
          "text": [
            "CWLCWLCWLCWLCWLCWLCWLCWLCWLCWLCWLCWLCWLCWLCWLCWLCWLCWLCWLCWL"
          ]
        }
      ]
    },
    {
      "cell_type": "code",
      "source": [
        "!cwl-runner 3_create-text-file.cwl 3_test.yml"
      ],
      "metadata": {
        "colab": {
          "base_uri": "https://localhost:8080/"
        },
        "id": "5W12AIib1eLZ",
        "outputId": "92a16cf6-71fb-42b0-f8d7-63020feafa63"
      },
      "execution_count": null,
      "outputs": [
        {
          "output_type": "stream",
          "name": "stdout",
          "text": [
            "\u001b[1;30mINFO\u001b[0m /usr/bin/cwl-runner 2.0.20200224214940\n",
            "\u001b[1;30mINFO\u001b[0m Resolved '3_create-text-file.cwl' to 'file:///content/3_create-text-file.cwl'\n",
            "\u001b[1;30mINFO\u001b[0m [job 3_create-text-file.cwl] /tmp/7rv8tl32$ python3 \\\n",
            "    create-text-script \\\n",
            "    'Common Workflow Language' \\\n",
            "    2\n",
            "\u001b[1;30mINFO\u001b[0m [job 3_create-text-file.cwl] completed success\n",
            "{\n",
            "    \"output_file\": {\n",
            "        \"location\": \"file:///content/output.txt\",\n",
            "        \"basename\": \"output.txt\",\n",
            "        \"class\": \"File\",\n",
            "        \"checksum\": \"sha1$96a24e3ca1907dfde3c257c2cfc8ddf9b5048d8c\",\n",
            "        \"size\": 48,\n",
            "        \"path\": \"/content/output.txt\"\n",
            "    }\n",
            "}\n",
            "\u001b[1;30mINFO\u001b[0m Final process status is success\n"
          ]
        }
      ]
    },
    {
      "cell_type": "code",
      "source": [
        "!cat output.txt"
      ],
      "metadata": {
        "colab": {
          "base_uri": "https://localhost:8080/"
        },
        "id": "wMxnPgeN1eSF",
        "outputId": "48a81f32-c5ff-49f6-a48d-c36436bd7cfd"
      },
      "execution_count": null,
      "outputs": [
        {
          "output_type": "stream",
          "name": "stdout",
          "text": [
            "Common Workflow LanguageCommon Workflow Language"
          ]
        }
      ]
    },
    {
      "cell_type": "markdown",
      "source": [
        "# Example 4: analyze a text file"
      ],
      "metadata": {
        "id": "X-soseVz0_Ao"
      }
    },
    {
      "cell_type": "code",
      "source": [
        "!cwl-runner 4_analyze-text-file.cwl --input_file output.txt"
      ],
      "metadata": {
        "colab": {
          "base_uri": "https://localhost:8080/"
        },
        "id": "yuUxAson1Hh6",
        "outputId": "e90dc3db-bc4d-4398-a29e-8f7e345ebd20"
      },
      "execution_count": null,
      "outputs": [
        {
          "output_type": "stream",
          "name": "stdout",
          "text": [
            "\u001b[1;30mINFO\u001b[0m /usr/bin/cwl-runner 2.0.20200224214940\n",
            "\u001b[1;30mINFO\u001b[0m Resolved '4_analyze-text-file.cwl' to 'file:///content/4_analyze-text-file.cwl'\n",
            "\u001b[1;30mINFO\u001b[0m [job 4_analyze-text-file.cwl] /tmp/ayllt9i_$ python3 \\\n",
            "    analyze-text-script \\\n",
            "    /tmp/tmpmdie91qj/stg21824b51-4647-4c47-92b5-4e744dae7d6a/output.txt\n",
            "\u001b[1;30mINFO\u001b[0m [job 4_analyze-text-file.cwl] completed success\n",
            "{\n",
            "    \"output_file\": {\n",
            "        \"location\": \"file:///content/counts.txt\",\n",
            "        \"basename\": \"counts.txt\",\n",
            "        \"class\": \"File\",\n",
            "        \"checksum\": \"sha1$c9987ac19dee9e4937c18e2e33515952393c722d\",\n",
            "        \"size\": 80,\n",
            "        \"path\": \"/content/counts.txt\"\n",
            "    }\n",
            "}\n",
            "\u001b[1;30mINFO\u001b[0m Final process status is success\n"
          ]
        }
      ]
    },
    {
      "cell_type": "code",
      "source": [
        "!cat counts.txt"
      ],
      "metadata": {
        "colab": {
          "base_uri": "https://localhost:8080/"
        },
        "id": "pNsvYxdv1tPE",
        "outputId": "de32ead1-34b1-4fc6-cacb-f42ff1aa2aec"
      },
      "execution_count": null,
      "outputs": [
        {
          "output_type": "stream",
          "name": "stdout",
          "text": [
            "C: 2\n",
            "o: 8\n",
            "m: 4\n",
            "n: 4\n",
            " : 4\n",
            "W: 2\n",
            "r: 2\n",
            "k: 2\n",
            "f: 2\n",
            "l: 2\n",
            "w: 2\n",
            "L: 2\n",
            "a: 4\n",
            "g: 4\n",
            "u: 2\n",
            "e: 2\n"
          ]
        }
      ]
    },
    {
      "cell_type": "markdown",
      "source": [
        "# Example 5: Combine steps into a workflow"
      ],
      "metadata": {
        "id": "KjfUORdV1BfK"
      }
    },
    {
      "cell_type": "code",
      "source": [
        "!cwl-runner 5_workflow.cwl 3_test.yml"
      ],
      "metadata": {
        "colab": {
          "base_uri": "https://localhost:8080/"
        },
        "id": "NbPH8T5S1H_F",
        "outputId": "030876e3-2847-48b3-bba4-bf76d5fbe32d"
      },
      "execution_count": null,
      "outputs": [
        {
          "output_type": "stream",
          "name": "stdout",
          "text": [
            "\u001b[1;30mINFO\u001b[0m /usr/bin/cwl-runner 2.0.20200224214940\n",
            "\u001b[1;30mINFO\u001b[0m Resolved '5_workflow.cwl' to 'file:///content/5_workflow.cwl'\n",
            "\u001b[1;30mINFO\u001b[0m [workflow ] start\n",
            "\u001b[1;30mINFO\u001b[0m [workflow ] starting step create_text_file\n",
            "\u001b[1;30mINFO\u001b[0m [step create_text_file] start\n",
            "\u001b[1;30mINFO\u001b[0m [job create_text_file] /tmp/gea6qvhd$ python3 \\\n",
            "    create-text-script \\\n",
            "    'Common Workflow Language' \\\n",
            "    2\n",
            "\u001b[1;30mINFO\u001b[0m [job create_text_file] completed success\n",
            "\u001b[1;30mINFO\u001b[0m [step create_text_file] completed success\n",
            "\u001b[1;30mINFO\u001b[0m [workflow ] starting step analyze_text_file\n",
            "\u001b[1;30mINFO\u001b[0m [step analyze_text_file] start\n",
            "\u001b[1;30mINFO\u001b[0m [job analyze_text_file] /tmp/cbm8cv7c$ python3 \\\n",
            "    analyze-text-script \\\n",
            "    /tmp/tmptky65k_c/stg5ecf0fa7-ab9e-40e9-b0a9-f7c03294fd8a/output.txt\n",
            "\u001b[1;30mINFO\u001b[0m [job analyze_text_file] completed success\n",
            "\u001b[1;30mINFO\u001b[0m [step analyze_text_file] completed success\n",
            "\u001b[1;30mINFO\u001b[0m [workflow ] completed success\n",
            "{\n",
            "    \"count_file\": {\n",
            "        \"location\": \"file:///content/counts.txt\",\n",
            "        \"basename\": \"counts.txt\",\n",
            "        \"class\": \"File\",\n",
            "        \"checksum\": \"sha1$c9987ac19dee9e4937c18e2e33515952393c722d\",\n",
            "        \"size\": 80,\n",
            "        \"path\": \"/content/counts.txt\"\n",
            "    }\n",
            "}\n",
            "\u001b[1;30mINFO\u001b[0m Final process status is success\n"
          ]
        }
      ]
    },
    {
      "cell_type": "code",
      "source": [
        "!cat counts.txt"
      ],
      "metadata": {
        "colab": {
          "base_uri": "https://localhost:8080/"
        },
        "id": "QagmQX3G15JP",
        "outputId": "1bb8250f-6bbd-4899-f7e8-8c52b689940b"
      },
      "execution_count": null,
      "outputs": [
        {
          "output_type": "stream",
          "name": "stdout",
          "text": [
            "C: 2\n",
            "o: 8\n",
            "m: 4\n",
            "n: 4\n",
            " : 4\n",
            "W: 2\n",
            "r: 2\n",
            "k: 2\n",
            "f: 2\n",
            "l: 2\n",
            "w: 2\n",
            "L: 2\n",
            "a: 4\n",
            "g: 4\n",
            "u: 2\n",
            "e: 2\n"
          ]
        }
      ]
    },
    {
      "cell_type": "code",
      "source": [],
      "metadata": {
        "id": "qmk_qap7bPQB"
      },
      "execution_count": null,
      "outputs": []
    }
  ]
}